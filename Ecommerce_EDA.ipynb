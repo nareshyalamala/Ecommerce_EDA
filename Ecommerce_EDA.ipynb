{
 "cells": [
  {
   "cell_type": "code",
   "execution_count": 1,
   "id": "c929d2e7",
   "metadata": {},
   "outputs": [],
   "source": [
    "import pandas as pd\n",
    "import numpy as np\n",
    "\n",
    "%matplotlib inline \n",
    "import matplotlib.pyplot as plt   \n",
    "\n",
    "\n",
    "#importing seaborn for statistical plots\n",
    "import seaborn as sns\n",
    "\n",
    "import ipywidgets as widgets\n"
   ]
  },
  {
   "cell_type": "code",
   "execution_count": 2,
   "id": "2a89d5a0",
   "metadata": {},
   "outputs": [],
   "source": [
    "# To read the csv file in folder path\n",
    "df=pd.read_csv(\"E:\\GLC\\dataset\\ecommerce_data.csv\")"
   ]
  },
  {
   "cell_type": "code",
   "execution_count": 3,
   "id": "a2172633",
   "metadata": {},
   "outputs": [
    {
     "data": {
      "text/html": [
       "<div>\n",
       "<style scoped>\n",
       "    .dataframe tbody tr th:only-of-type {\n",
       "        vertical-align: middle;\n",
       "    }\n",
       "\n",
       "    .dataframe tbody tr th {\n",
       "        vertical-align: top;\n",
       "    }\n",
       "\n",
       "    .dataframe thead th {\n",
       "        text-align: right;\n",
       "    }\n",
       "</style>\n",
       "<table border=\"1\" class=\"dataframe\">\n",
       "  <thead>\n",
       "    <tr style=\"text-align: right;\">\n",
       "      <th></th>\n",
       "      <th>order_id</th>\n",
       "      <th>product_id</th>\n",
       "      <th>product_category</th>\n",
       "      <th>quantity</th>\n",
       "      <th>price_dollars</th>\n",
       "      <th>customer_id</th>\n",
       "      <th>order_date</th>\n",
       "      <th>country</th>\n",
       "      <th>state</th>\n",
       "      <th>sales_hour</th>\n",
       "      <th>discount_percent</th>\n",
       "      <th>return_status</th>\n",
       "      <th>sales_value</th>\n",
       "      <th>website_traffic</th>\n",
       "      <th>order_number</th>\n",
       "      <th>lifetime_value</th>\n",
       "    </tr>\n",
       "  </thead>\n",
       "  <tbody>\n",
       "    <tr>\n",
       "      <th>0</th>\n",
       "      <td>1</td>\n",
       "      <td>1439</td>\n",
       "      <td>Books</td>\n",
       "      <td>1</td>\n",
       "      <td>160</td>\n",
       "      <td>10510</td>\n",
       "      <td>1/1/2022 0:00</td>\n",
       "      <td>USA</td>\n",
       "      <td>California</td>\n",
       "      <td>0</td>\n",
       "      <td>9</td>\n",
       "      <td>Not Returned</td>\n",
       "      <td>145.60</td>\n",
       "      <td>280</td>\n",
       "      <td>1</td>\n",
       "      <td>145.60</td>\n",
       "    </tr>\n",
       "    <tr>\n",
       "      <th>1</th>\n",
       "      <td>2</td>\n",
       "      <td>4268</td>\n",
       "      <td>Home &amp; Kitchen</td>\n",
       "      <td>5</td>\n",
       "      <td>198</td>\n",
       "      <td>25456</td>\n",
       "      <td>1/1/2022 1:00</td>\n",
       "      <td>India</td>\n",
       "      <td>Maharashtra</td>\n",
       "      <td>1</td>\n",
       "      <td>10</td>\n",
       "      <td>Returned</td>\n",
       "      <td>891.00</td>\n",
       "      <td>909</td>\n",
       "      <td>1</td>\n",
       "      <td>891.00</td>\n",
       "    </tr>\n",
       "    <tr>\n",
       "      <th>2</th>\n",
       "      <td>3</td>\n",
       "      <td>1627</td>\n",
       "      <td>Electronics</td>\n",
       "      <td>2</td>\n",
       "      <td>58</td>\n",
       "      <td>23047</td>\n",
       "      <td>1/1/2022 2:00</td>\n",
       "      <td>India</td>\n",
       "      <td>Maharashtra</td>\n",
       "      <td>2</td>\n",
       "      <td>3</td>\n",
       "      <td>Returned</td>\n",
       "      <td>112.52</td>\n",
       "      <td>626</td>\n",
       "      <td>1</td>\n",
       "      <td>112.52</td>\n",
       "    </tr>\n",
       "    <tr>\n",
       "      <th>3</th>\n",
       "      <td>4</td>\n",
       "      <td>4463</td>\n",
       "      <td>Electronics</td>\n",
       "      <td>7</td>\n",
       "      <td>185</td>\n",
       "      <td>21280</td>\n",
       "      <td>1/1/2022 3:00</td>\n",
       "      <td>UK</td>\n",
       "      <td>England</td>\n",
       "      <td>3</td>\n",
       "      <td>19</td>\n",
       "      <td>Not Returned</td>\n",
       "      <td>1048.95</td>\n",
       "      <td>282</td>\n",
       "      <td>1</td>\n",
       "      <td>2352.75</td>\n",
       "    </tr>\n",
       "    <tr>\n",
       "      <th>4</th>\n",
       "      <td>5</td>\n",
       "      <td>4103</td>\n",
       "      <td>Books</td>\n",
       "      <td>5</td>\n",
       "      <td>30</td>\n",
       "      <td>16379</td>\n",
       "      <td>1/1/2022 4:00</td>\n",
       "      <td>Australia</td>\n",
       "      <td>New South Wales</td>\n",
       "      <td>4</td>\n",
       "      <td>4</td>\n",
       "      <td>Returned</td>\n",
       "      <td>144.00</td>\n",
       "      <td>606</td>\n",
       "      <td>1</td>\n",
       "      <td>144.00</td>\n",
       "    </tr>\n",
       "  </tbody>\n",
       "</table>\n",
       "</div>"
      ],
      "text/plain": [
       "   order_id  product_id product_category  quantity  price_dollars  \\\n",
       "0         1        1439            Books         1            160   \n",
       "1         2        4268   Home & Kitchen         5            198   \n",
       "2         3        1627      Electronics         2             58   \n",
       "3         4        4463      Electronics         7            185   \n",
       "4         5        4103            Books         5             30   \n",
       "\n",
       "   customer_id     order_date    country            state  sales_hour  \\\n",
       "0        10510  1/1/2022 0:00        USA       California           0   \n",
       "1        25456  1/1/2022 1:00      India      Maharashtra           1   \n",
       "2        23047  1/1/2022 2:00      India      Maharashtra           2   \n",
       "3        21280  1/1/2022 3:00         UK          England           3   \n",
       "4        16379  1/1/2022 4:00  Australia  New South Wales           4   \n",
       "\n",
       "   discount_percent return_status  sales_value  website_traffic  order_number  \\\n",
       "0                 9  Not Returned       145.60              280             1   \n",
       "1                10      Returned       891.00              909             1   \n",
       "2                 3      Returned       112.52              626             1   \n",
       "3                19  Not Returned      1048.95              282             1   \n",
       "4                 4      Returned       144.00              606             1   \n",
       "\n",
       "   lifetime_value  \n",
       "0          145.60  \n",
       "1          891.00  \n",
       "2          112.52  \n",
       "3         2352.75  \n",
       "4          144.00  "
      ]
     },
     "execution_count": 3,
     "metadata": {},
     "output_type": "execute_result"
    }
   ],
   "source": [
    "# It used gives top 5 rows \n",
    "df.head()"
   ]
  },
  {
   "cell_type": "code",
   "execution_count": 4,
   "id": "9e20fa5c",
   "metadata": {},
   "outputs": [
    {
     "name": "stdout",
     "output_type": "stream",
     "text": [
      "<class 'pandas.core.frame.DataFrame'>\n",
      "RangeIndex: 5000 entries, 0 to 4999\n",
      "Data columns (total 16 columns):\n",
      " #   Column            Non-Null Count  Dtype  \n",
      "---  ------            --------------  -----  \n",
      " 0   order_id          5000 non-null   int64  \n",
      " 1   product_id        5000 non-null   int64  \n",
      " 2   product_category  5000 non-null   object \n",
      " 3   quantity          5000 non-null   int64  \n",
      " 4   price_dollars     5000 non-null   int64  \n",
      " 5   customer_id       5000 non-null   int64  \n",
      " 6   order_date        5000 non-null   object \n",
      " 7   country           5000 non-null   object \n",
      " 8   state             5000 non-null   object \n",
      " 9   sales_hour        5000 non-null   int64  \n",
      " 10  discount_percent  5000 non-null   int64  \n",
      " 11  return_status     5000 non-null   object \n",
      " 12  sales_value       5000 non-null   float64\n",
      " 13  website_traffic   5000 non-null   int64  \n",
      " 14  order_number      5000 non-null   int64  \n",
      " 15  lifetime_value    5000 non-null   float64\n",
      "dtypes: float64(2), int64(9), object(5)\n",
      "memory usage: 625.1+ KB\n"
     ]
    }
   ],
   "source": [
    "# It's describes about data(data types,null values...)\n",
    "df.info()"
   ]
  },
  {
   "cell_type": "code",
   "execution_count": 5,
   "id": "1dd9bb55",
   "metadata": {},
   "outputs": [
    {
     "data": {
      "text/plain": [
       "(5000, 16)"
      ]
     },
     "execution_count": 5,
     "metadata": {},
     "output_type": "execute_result"
    }
   ],
   "source": [
    "# It's shows the no.of rows & no.of Cloumns\n",
    "df.shape"
   ]
  },
  {
   "cell_type": "code",
   "execution_count": 6,
   "id": "aa666260",
   "metadata": {},
   "outputs": [
    {
     "data": {
      "text/html": [
       "<div>\n",
       "<style scoped>\n",
       "    .dataframe tbody tr th:only-of-type {\n",
       "        vertical-align: middle;\n",
       "    }\n",
       "\n",
       "    .dataframe tbody tr th {\n",
       "        vertical-align: top;\n",
       "    }\n",
       "\n",
       "    .dataframe thead th {\n",
       "        text-align: right;\n",
       "    }\n",
       "</style>\n",
       "<table border=\"1\" class=\"dataframe\">\n",
       "  <thead>\n",
       "    <tr style=\"text-align: right;\">\n",
       "      <th></th>\n",
       "      <th>count</th>\n",
       "      <th>mean</th>\n",
       "      <th>std</th>\n",
       "      <th>min</th>\n",
       "      <th>25%</th>\n",
       "      <th>50%</th>\n",
       "      <th>75%</th>\n",
       "      <th>max</th>\n",
       "    </tr>\n",
       "  </thead>\n",
       "  <tbody>\n",
       "    <tr>\n",
       "      <th>order_id</th>\n",
       "      <td>5000.0</td>\n",
       "      <td>2500.500000</td>\n",
       "      <td>1443.520003</td>\n",
       "      <td>1.00</td>\n",
       "      <td>1250.750</td>\n",
       "      <td>2500.500</td>\n",
       "      <td>3750.2500</td>\n",
       "      <td>5000.00</td>\n",
       "    </tr>\n",
       "    <tr>\n",
       "      <th>product_id</th>\n",
       "      <td>5000.0</td>\n",
       "      <td>3011.978000</td>\n",
       "      <td>1143.730878</td>\n",
       "      <td>1000.00</td>\n",
       "      <td>2028.750</td>\n",
       "      <td>3045.500</td>\n",
       "      <td>3993.0000</td>\n",
       "      <td>4998.00</td>\n",
       "    </tr>\n",
       "    <tr>\n",
       "      <th>quantity</th>\n",
       "      <td>5000.0</td>\n",
       "      <td>5.455400</td>\n",
       "      <td>2.855248</td>\n",
       "      <td>1.00</td>\n",
       "      <td>3.000</td>\n",
       "      <td>5.000</td>\n",
       "      <td>8.0000</td>\n",
       "      <td>10.00</td>\n",
       "    </tr>\n",
       "    <tr>\n",
       "      <th>price_dollars</th>\n",
       "      <td>5000.0</td>\n",
       "      <td>105.607000</td>\n",
       "      <td>54.968850</td>\n",
       "      <td>10.00</td>\n",
       "      <td>58.750</td>\n",
       "      <td>105.000</td>\n",
       "      <td>154.0000</td>\n",
       "      <td>200.00</td>\n",
       "    </tr>\n",
       "    <tr>\n",
       "      <th>customer_id</th>\n",
       "      <td>5000.0</td>\n",
       "      <td>19952.715400</td>\n",
       "      <td>5785.725497</td>\n",
       "      <td>10000.00</td>\n",
       "      <td>14860.750</td>\n",
       "      <td>20005.500</td>\n",
       "      <td>24900.5000</td>\n",
       "      <td>29997.00</td>\n",
       "    </tr>\n",
       "    <tr>\n",
       "      <th>sales_hour</th>\n",
       "      <td>5000.0</td>\n",
       "      <td>11.487200</td>\n",
       "      <td>6.925332</td>\n",
       "      <td>0.00</td>\n",
       "      <td>5.000</td>\n",
       "      <td>11.000</td>\n",
       "      <td>17.0000</td>\n",
       "      <td>23.00</td>\n",
       "    </tr>\n",
       "    <tr>\n",
       "      <th>discount_percent</th>\n",
       "      <td>5000.0</td>\n",
       "      <td>9.979000</td>\n",
       "      <td>5.790481</td>\n",
       "      <td>0.00</td>\n",
       "      <td>5.000</td>\n",
       "      <td>10.000</td>\n",
       "      <td>15.0000</td>\n",
       "      <td>20.00</td>\n",
       "    </tr>\n",
       "    <tr>\n",
       "      <th>sales_value</th>\n",
       "      <td>5000.0</td>\n",
       "      <td>519.559952</td>\n",
       "      <td>412.552028</td>\n",
       "      <td>9.02</td>\n",
       "      <td>174.600</td>\n",
       "      <td>408.265</td>\n",
       "      <td>755.5275</td>\n",
       "      <td>1950.30</td>\n",
       "    </tr>\n",
       "    <tr>\n",
       "      <th>website_traffic</th>\n",
       "      <td>5000.0</td>\n",
       "      <td>555.719000</td>\n",
       "      <td>261.572883</td>\n",
       "      <td>100.00</td>\n",
       "      <td>325.750</td>\n",
       "      <td>562.000</td>\n",
       "      <td>786.0000</td>\n",
       "      <td>1000.00</td>\n",
       "    </tr>\n",
       "    <tr>\n",
       "      <th>order_number</th>\n",
       "      <td>5000.0</td>\n",
       "      <td>1.127400</td>\n",
       "      <td>0.363862</td>\n",
       "      <td>1.00</td>\n",
       "      <td>1.000</td>\n",
       "      <td>1.000</td>\n",
       "      <td>1.0000</td>\n",
       "      <td>4.00</td>\n",
       "    </tr>\n",
       "    <tr>\n",
       "      <th>lifetime_value</th>\n",
       "      <td>5000.0</td>\n",
       "      <td>651.847750</td>\n",
       "      <td>535.681262</td>\n",
       "      <td>9.02</td>\n",
       "      <td>223.965</td>\n",
       "      <td>517.825</td>\n",
       "      <td>962.0800</td>\n",
       "      <td>4715.38</td>\n",
       "    </tr>\n",
       "  </tbody>\n",
       "</table>\n",
       "</div>"
      ],
      "text/plain": [
       "                   count          mean          std       min        25%  \\\n",
       "order_id          5000.0   2500.500000  1443.520003      1.00   1250.750   \n",
       "product_id        5000.0   3011.978000  1143.730878   1000.00   2028.750   \n",
       "quantity          5000.0      5.455400     2.855248      1.00      3.000   \n",
       "price_dollars     5000.0    105.607000    54.968850     10.00     58.750   \n",
       "customer_id       5000.0  19952.715400  5785.725497  10000.00  14860.750   \n",
       "sales_hour        5000.0     11.487200     6.925332      0.00      5.000   \n",
       "discount_percent  5000.0      9.979000     5.790481      0.00      5.000   \n",
       "sales_value       5000.0    519.559952   412.552028      9.02    174.600   \n",
       "website_traffic   5000.0    555.719000   261.572883    100.00    325.750   \n",
       "order_number      5000.0      1.127400     0.363862      1.00      1.000   \n",
       "lifetime_value    5000.0    651.847750   535.681262      9.02    223.965   \n",
       "\n",
       "                        50%         75%       max  \n",
       "order_id           2500.500   3750.2500   5000.00  \n",
       "product_id         3045.500   3993.0000   4998.00  \n",
       "quantity              5.000      8.0000     10.00  \n",
       "price_dollars       105.000    154.0000    200.00  \n",
       "customer_id       20005.500  24900.5000  29997.00  \n",
       "sales_hour           11.000     17.0000     23.00  \n",
       "discount_percent     10.000     15.0000     20.00  \n",
       "sales_value         408.265    755.5275   1950.30  \n",
       "website_traffic     562.000    786.0000   1000.00  \n",
       "order_number          1.000      1.0000      4.00  \n",
       "lifetime_value      517.825    962.0800   4715.38  "
      ]
     },
     "execution_count": 6,
     "metadata": {},
     "output_type": "execute_result"
    }
   ],
   "source": [
    "# its describes the descriptive statistics\n",
    "df.describe().T"
   ]
  },
  {
   "cell_type": "markdown",
   "id": "13e97431",
   "metadata": {},
   "source": [
    "# Data Cleaning"
   ]
  },
  {
   "cell_type": "code",
   "execution_count": 7,
   "id": "4dfe7272",
   "metadata": {},
   "outputs": [
    {
     "data": {
      "text/plain": [
       "order_id            0\n",
       "product_id          0\n",
       "product_category    0\n",
       "quantity            0\n",
       "price_dollars       0\n",
       "customer_id         0\n",
       "order_date          0\n",
       "country             0\n",
       "state               0\n",
       "sales_hour          0\n",
       "discount_percent    0\n",
       "return_status       0\n",
       "sales_value         0\n",
       "website_traffic     0\n",
       "order_number        0\n",
       "lifetime_value      0\n",
       "dtype: int64"
      ]
     },
     "execution_count": 7,
     "metadata": {},
     "output_type": "execute_result"
    }
   ],
   "source": [
    "# it show the null values in each columns\n",
    "df.isnull().sum()"
   ]
  },
  {
   "cell_type": "code",
   "execution_count": 8,
   "id": "908b84c4",
   "metadata": {},
   "outputs": [
    {
     "data": {
      "text/plain": [
       "Index(['order_id', 'product_id', 'product_category', 'quantity',\n",
       "       'price_dollars', 'customer_id', 'order_date', 'country', 'state',\n",
       "       'sales_hour', 'discount_percent', 'return_status', 'sales_value',\n",
       "       'website_traffic', 'order_number', 'lifetime_value'],\n",
       "      dtype='object')"
      ]
     },
     "execution_count": 8,
     "metadata": {},
     "output_type": "execute_result"
    }
   ],
   "source": [
    "# it shows each column name\n",
    "df.columns"
   ]
  },
  {
   "cell_type": "code",
   "execution_count": 9,
   "id": "9086cac1",
   "metadata": {},
   "outputs": [
    {
     "data": {
      "text/plain": [
       "Canada       1045\n",
       "India        1008\n",
       "Australia    1003\n",
       "UK           1002\n",
       "USA           942\n",
       "Name: country, dtype: int64"
      ]
     },
     "execution_count": 9,
     "metadata": {},
     "output_type": "execute_result"
    }
   ],
   "source": [
    "# it shows each country count in country column how many times its appear?\n",
    "df['country'].value_counts()"
   ]
  },
  {
   "cell_type": "code",
   "execution_count": 10,
   "id": "a3999085",
   "metadata": {},
   "outputs": [
    {
     "data": {
      "text/plain": [
       "Books             1036\n",
       "Home & Kitchen    1033\n",
       "Grocery           1006\n",
       "Clothing           973\n",
       "Electronics        952\n",
       "Name: product_category, dtype: int64"
      ]
     },
     "execution_count": 10,
     "metadata": {},
     "output_type": "execute_result"
    }
   ],
   "source": [
    "df['product_category'].value_counts()"
   ]
  },
  {
   "cell_type": "code",
   "execution_count": 11,
   "id": "80bd8749",
   "metadata": {},
   "outputs": [
    {
     "data": {
      "text/plain": [
       "array(['Books', 'Home & Kitchen', 'Electronics', 'Clothing', 'Grocery'],\n",
       "      dtype=object)"
      ]
     },
     "execution_count": 11,
     "metadata": {},
     "output_type": "execute_result"
    }
   ],
   "source": [
    "# it show the unique values in particular column\n",
    "df['product_category'].unique()"
   ]
  },
  {
   "cell_type": "code",
   "execution_count": 12,
   "id": "e9b97b83",
   "metadata": {},
   "outputs": [
    {
     "data": {
      "text/plain": [
       "5"
      ]
     },
     "execution_count": 12,
     "metadata": {},
     "output_type": "execute_result"
    }
   ],
   "source": [
    "# it shows the  total no of unique values in a particular column\n",
    "df['product_category'].nunique()"
   ]
  },
  {
   "cell_type": "code",
   "execution_count": 13,
   "id": "3a71f620",
   "metadata": {},
   "outputs": [
    {
     "data": {
      "text/plain": [
       "array([False])"
      ]
     },
     "execution_count": 13,
     "metadata": {},
     "output_type": "execute_result"
    }
   ],
   "source": [
    "# it shows duplicates value in dataset\n",
    "df[df.duplicated()]\n",
    "# or\n",
    "df.duplicated().unique()"
   ]
  },
  {
   "cell_type": "code",
   "execution_count": 14,
   "id": "c35889a9",
   "metadata": {},
   "outputs": [
    {
     "data": {
      "text/plain": [
       "Index(['order_id', 'product_id', 'product_category', 'quantity',\n",
       "       'price_dollars', 'customer_id', 'order_date', 'country', 'state',\n",
       "       'sales_hour', 'discount_percent', 'return_status', 'sales_value',\n",
       "       'website_traffic', 'order_number', 'lifetime_value'],\n",
       "      dtype='object')"
      ]
     },
     "execution_count": 14,
     "metadata": {},
     "output_type": "execute_result"
    }
   ],
   "source": [
    "df.columns\n"
   ]
  },
  {
   "cell_type": "code",
   "execution_count": 15,
   "id": "2c215146",
   "metadata": {},
   "outputs": [
    {
     "data": {
      "text/html": [
       "<div>\n",
       "<style scoped>\n",
       "    .dataframe tbody tr th:only-of-type {\n",
       "        vertical-align: middle;\n",
       "    }\n",
       "\n",
       "    .dataframe tbody tr th {\n",
       "        vertical-align: top;\n",
       "    }\n",
       "\n",
       "    .dataframe thead th {\n",
       "        text-align: right;\n",
       "    }\n",
       "</style>\n",
       "<table border=\"1\" class=\"dataframe\">\n",
       "  <thead>\n",
       "    <tr style=\"text-align: right;\">\n",
       "      <th></th>\n",
       "      <th>order_id</th>\n",
       "      <th>product_id</th>\n",
       "      <th>product_category</th>\n",
       "      <th>quantity</th>\n",
       "      <th>price_dollars</th>\n",
       "      <th>customer_id</th>\n",
       "      <th>order_date</th>\n",
       "      <th>country</th>\n",
       "      <th>state</th>\n",
       "      <th>sales_hour</th>\n",
       "      <th>discount_percent</th>\n",
       "      <th>return_status</th>\n",
       "      <th>sales_value</th>\n",
       "      <th>website_traffic</th>\n",
       "      <th>order_number</th>\n",
       "      <th>lifetime_value</th>\n",
       "    </tr>\n",
       "  </thead>\n",
       "  <tbody>\n",
       "    <tr>\n",
       "      <th>0</th>\n",
       "      <td>1</td>\n",
       "      <td>1439</td>\n",
       "      <td>Books</td>\n",
       "      <td>1</td>\n",
       "      <td>160</td>\n",
       "      <td>10510</td>\n",
       "      <td>1/1/2022 0:00</td>\n",
       "      <td>USA</td>\n",
       "      <td>California</td>\n",
       "      <td>0</td>\n",
       "      <td>9</td>\n",
       "      <td>Not Returned</td>\n",
       "      <td>145.6</td>\n",
       "      <td>280</td>\n",
       "      <td>1</td>\n",
       "      <td>145.6</td>\n",
       "    </tr>\n",
       "  </tbody>\n",
       "</table>\n",
       "</div>"
      ],
      "text/plain": [
       "   order_id  product_id product_category  quantity  price_dollars  \\\n",
       "0         1        1439            Books         1            160   \n",
       "\n",
       "   customer_id     order_date country       state  sales_hour  \\\n",
       "0        10510  1/1/2022 0:00     USA  California           0   \n",
       "\n",
       "   discount_percent return_status  sales_value  website_traffic  order_number  \\\n",
       "0                 9  Not Returned        145.6              280             1   \n",
       "\n",
       "   lifetime_value  \n",
       "0           145.6  "
      ]
     },
     "execution_count": 15,
     "metadata": {},
     "output_type": "execute_result"
    }
   ],
   "source": [
    "df.head(1)"
   ]
  },
  {
   "cell_type": "code",
   "execution_count": 16,
   "id": "b8925f17",
   "metadata": {},
   "outputs": [
    {
     "data": {
      "image/png": "[encoded data removed]",
      "text/plain": [
       "<Figure size 1200x600 with 1 Axes>"
      ]
     },
     "metadata": {},
     "output_type": "display_data"
    }
   ],
   "source": [
    "# Check for outliers\n",
    "# Visualize box plots for numerical columns\n",
    "plt.figure(figsize=(12,6))\n",
    "df.boxplot(column=['price_dollars', 'discount_percent', 'sales_value', 'website_traffic','lifetime_value'])\n",
    "plt.title('Box plot of Numerical Columns')\n",
    "plt.show()"
   ]
  },
  {
   "cell_type": "code",
   "execution_count": 17,
   "id": "2ca4cb7f",
   "metadata": {},
   "outputs": [],
   "source": [
    "#Handling outliers\n",
    "# Remove outliers based on a specific threshold\n",
    "df_cleaned = df[(df['sales_value'] < 1500) & (df['lifetime_value'] < 1850)]"
   ]
  },
  {
   "cell_type": "code",
   "execution_count": 18,
   "id": "48d0414f",
   "metadata": {},
   "outputs": [
    {
     "data": {
      "image/png": "[encoded data removed]",
      "text/plain": [
       "<Figure size 1200x600 with 1 Axes>"
      ]
     },
     "metadata": {},
     "output_type": "display_data"
    }
   ],
   "source": [
    "plt.figure(figsize=(12,6))\n",
    "df_cleaned.boxplot(column=['price_dollars', 'discount_percent', 'sales_value', 'website_traffic','lifetime_value'])\n",
    "plt.title('Box plot of Numerical Columns')\n",
    "plt.show()"
   ]
  },
  {
   "cell_type": "code",
   "execution_count": 19,
   "id": "be2920e8",
   "metadata": {},
   "outputs": [
    {
     "data": {
      "text/plain": [
       "(4747, 16)"
      ]
     },
     "execution_count": 19,
     "metadata": {},
     "output_type": "execute_result"
    }
   ],
   "source": [
    "df_cleaned.shape"
   ]
  },
  {
   "cell_type": "code",
   "execution_count": 20,
   "id": "2fde4c60",
   "metadata": {},
   "outputs": [
    {
     "name": "stdout",
     "output_type": "stream",
     "text": [
      "<class 'pandas.core.frame.DataFrame'>\n",
      "RangeIndex: 5000 entries, 0 to 4999\n",
      "Data columns (total 16 columns):\n",
      " #   Column            Non-Null Count  Dtype  \n",
      "---  ------            --------------  -----  \n",
      " 0   order_id          5000 non-null   int64  \n",
      " 1   product_id        5000 non-null   int64  \n",
      " 2   product_category  5000 non-null   object \n",
      " 3   quantity          5000 non-null   int64  \n",
      " 4   price_dollars     5000 non-null   int64  \n",
      " 5   customer_id       5000 non-null   int64  \n",
      " 6   order_date        5000 non-null   object \n",
      " 7   country           5000 non-null   object \n",
      " 8   state             5000 non-null   object \n",
      " 9   sales_hour        5000 non-null   int64  \n",
      " 10  discount_percent  5000 non-null   int64  \n",
      " 11  return_status     5000 non-null   object \n",
      " 12  sales_value       5000 non-null   float64\n",
      " 13  website_traffic   5000 non-null   int64  \n",
      " 14  order_number      5000 non-null   int64  \n",
      " 15  lifetime_value    5000 non-null   float64\n",
      "dtypes: float64(2), int64(9), object(5)\n",
      "memory usage: 625.1+ KB\n"
     ]
    }
   ],
   "source": [
    "df.info()"
   ]
  },
  {
   "cell_type": "markdown",
   "id": "f8183a75",
   "metadata": {},
   "source": [
    "# It's display the country/state wise Sales"
   ]
  },
  {
   "cell_type": "code",
   "execution_count": 21,
   "id": "36644560",
   "metadata": {},
   "outputs": [],
   "source": [
    "c=widgets.Dropdown(\n",
    "    options=['country', 'state'],\n",
    "    value='country',\n",
    "    description='select  region:',\n",
    "    disabled=False,\n",
    ")\n",
    "\n",
    "def graph(a):\n",
    "    plt.figure(figsize=(12,6))\n",
    "    sns.barplot(x=a,y='sales_value', data=df_cleaned)"
   ]
  },
  {
   "cell_type": "code",
   "execution_count": 22,
   "id": "a3f15883",
   "metadata": {},
   "outputs": [
    {
     "data": {
      "application/vnd.jupyter.widget-view+json": {
       "model_id": "7b70e8aaa26e4e8b99af6b96d55ff358",
       "version_major": 2,
       "version_minor": 0
      },
      "text/plain": [
       "interactive(children=(Dropdown(description='select  region:', options=('country', 'state'), value='country'), …"
      ]
     },
     "metadata": {},
     "output_type": "display_data"
    },
    {
     "data": {
      "text/plain": [
       "<function __main__.graph(a)>"
      ]
     },
     "execution_count": 22,
     "metadata": {},
     "output_type": "execute_result"
    }
   ],
   "source": [
    "widgets.interact(graph,a=c)"
   ]
  },
  {
   "cell_type": "markdown",
   "id": "459c00dc",
   "metadata": {},
   "source": [
    "# It's display country/state wise each product category sales"
   ]
  },
  {
   "cell_type": "code",
   "execution_count": 23,
   "id": "eacf7f16",
   "metadata": {},
   "outputs": [],
   "source": [
    "con2 = widgets.Dropdown(\n",
    "    options=['country', 'state'],\n",
    "    value='country',\n",
    "    description='Select region:',\n",
    "    disabled=False,\n",
    ")\n",
    "\n",
    "def plotting(x_value):\n",
    "  con3 = widgets.Dropdown(\n",
    "    options=df_cleaned['product_category'].unique(),\n",
    "    value='Books',\n",
    "    description='product_category :',\n",
    "    disabled=False,\n",
    "  )\n",
    "  \n",
    "  def mainplot(y_value):\n",
    "    cat = df_cleaned[df_cleaned['product_category']==y_value]\n",
    "    plt.title(y_value)\n",
    "    #plt.figure(figsize=(8,4))\n",
    "    sns.barplot(x=x_value, y='sales_value', data=cat)\n",
    "  widgets.interact(mainplot,y_value = con3)"
   ]
  },
  {
   "cell_type": "code",
   "execution_count": 24,
   "id": "86ef4dcc",
   "metadata": {},
   "outputs": [
    {
     "data": {
      "application/vnd.jupyter.widget-view+json": {
       "model_id": "14057137d1474820a78187f93434b511",
       "version_major": 2,
       "version_minor": 0
      },
      "text/plain": [
       "interactive(children=(Dropdown(description='Select region:', options=('country', 'state'), value='country'), O…"
      ]
     },
     "metadata": {},
     "output_type": "display_data"
    },
    {
     "data": {
      "text/plain": [
       "<function __main__.plotting(x_value)>"
      ]
     },
     "execution_count": 24,
     "metadata": {},
     "output_type": "execute_result"
    }
   ],
   "source": [
    "widgets.interact(plotting,x_value = con2)"
   ]
  },
  {
   "cell_type": "code",
   "execution_count": 25,
   "id": "f7de72d4",
   "metadata": {},
   "outputs": [
    {
     "name": "stdout",
     "output_type": "stream",
     "text": [
      "<class 'pandas.core.frame.DataFrame'>\n",
      "Int64Index: 4747 entries, 0 to 4999\n",
      "Data columns (total 16 columns):\n",
      " #   Column            Non-Null Count  Dtype  \n",
      "---  ------            --------------  -----  \n",
      " 0   order_id          4747 non-null   int64  \n",
      " 1   product_id        4747 non-null   int64  \n",
      " 2   product_category  4747 non-null   object \n",
      " 3   quantity          4747 non-null   int64  \n",
      " 4   price_dollars     4747 non-null   int64  \n",
      " 5   customer_id       4747 non-null   int64  \n",
      " 6   order_date        4747 non-null   object \n",
      " 7   country           4747 non-null   object \n",
      " 8   state             4747 non-null   object \n",
      " 9   sales_hour        4747 non-null   int64  \n",
      " 10  discount_percent  4747 non-null   int64  \n",
      " 11  return_status     4747 non-null   object \n",
      " 12  sales_value       4747 non-null   float64\n",
      " 13  website_traffic   4747 non-null   int64  \n",
      " 14  order_number      4747 non-null   int64  \n",
      " 15  lifetime_value    4747 non-null   float64\n",
      "dtypes: float64(2), int64(9), object(5)\n",
      "memory usage: 630.5+ KB\n"
     ]
    }
   ],
   "source": [
    "df_cleaned.info()"
   ]
  },
  {
   "cell_type": "code",
   "execution_count": 26,
   "id": "d4f752a4",
   "metadata": {},
   "outputs": [
    {
     "name": "stderr",
     "output_type": "stream",
     "text": [
      "C:\\Users\\Admin\\AppData\\Local\\Temp\\ipykernel_8044\\42311417.py:2: SettingWithCopyWarning: \n",
      "A value is trying to be set on a copy of a slice from a DataFrame.\n",
      "Try using .loc[row_indexer,col_indexer] = value instead\n",
      "\n",
      "See the caveats in the documentation: https://pandas.pydata.org/pandas-docs/stable/user_guide/indexing.html#returning-a-view-versus-a-copy\n",
      "  df_cleaned['order_date'] = pd.to_datetime(df_cleaned['order_date'])\n"
     ]
    }
   ],
   "source": [
    "#It object datatype to datetime datatype\n",
    "df_cleaned['order_date'] = pd.to_datetime(df_cleaned['order_date'])"
   ]
  },
  {
   "cell_type": "code",
   "execution_count": 27,
   "id": "9f8efb1e",
   "metadata": {},
   "outputs": [
    {
     "name": "stdout",
     "output_type": "stream",
     "text": [
      "<class 'pandas.core.frame.DataFrame'>\n",
      "Int64Index: 4747 entries, 0 to 4999\n",
      "Data columns (total 16 columns):\n",
      " #   Column            Non-Null Count  Dtype         \n",
      "---  ------            --------------  -----         \n",
      " 0   order_id          4747 non-null   int64         \n",
      " 1   product_id        4747 non-null   int64         \n",
      " 2   product_category  4747 non-null   object        \n",
      " 3   quantity          4747 non-null   int64         \n",
      " 4   price_dollars     4747 non-null   int64         \n",
      " 5   customer_id       4747 non-null   int64         \n",
      " 6   order_date        4747 non-null   datetime64[ns]\n",
      " 7   country           4747 non-null   object        \n",
      " 8   state             4747 non-null   object        \n",
      " 9   sales_hour        4747 non-null   int64         \n",
      " 10  discount_percent  4747 non-null   int64         \n",
      " 11  return_status     4747 non-null   object        \n",
      " 12  sales_value       4747 non-null   float64       \n",
      " 13  website_traffic   4747 non-null   int64         \n",
      " 14  order_number      4747 non-null   int64         \n",
      " 15  lifetime_value    4747 non-null   float64       \n",
      "dtypes: datetime64[ns](1), float64(2), int64(9), object(4)\n",
      "memory usage: 630.5+ KB\n"
     ]
    }
   ],
   "source": [
    "df_cleaned.info()"
   ]
  },
  {
   "cell_type": "code",
   "execution_count": 28,
   "id": "f9f3c42d",
   "metadata": {},
   "outputs": [
    {
     "name": "stderr",
     "output_type": "stream",
     "text": [
      "C:\\Users\\Admin\\AppData\\Local\\Temp\\ipykernel_8044\\1972518710.py:2: SettingWithCopyWarning: \n",
      "A value is trying to be set on a copy of a slice from a DataFrame.\n",
      "Try using .loc[row_indexer,col_indexer] = value instead\n",
      "\n",
      "See the caveats in the documentation: https://pandas.pydata.org/pandas-docs/stable/user_guide/indexing.html#returning-a-view-versus-a-copy\n",
      "  df_cleaned['year']=df_cleaned['order_date'].dt.year\n"
     ]
    }
   ],
   "source": [
    "# it's extract year form orderdate\n",
    "df_cleaned['year']=df_cleaned['order_date'].dt.year"
   ]
  },
  {
   "cell_type": "code",
   "execution_count": 29,
   "id": "0a16af4e",
   "metadata": {},
   "outputs": [
    {
     "name": "stderr",
     "output_type": "stream",
     "text": [
      "C:\\Users\\Admin\\AppData\\Local\\Temp\\ipykernel_8044\\3865666315.py:2: SettingWithCopyWarning: \n",
      "A value is trying to be set on a copy of a slice from a DataFrame.\n",
      "Try using .loc[row_indexer,col_indexer] = value instead\n",
      "\n",
      "See the caveats in the documentation: https://pandas.pydata.org/pandas-docs/stable/user_guide/indexing.html#returning-a-view-versus-a-copy\n",
      "  df_cleaned['month']=df_cleaned['order_date'].dt.month_name()\n"
     ]
    }
   ],
   "source": [
    "#it's extract month from orderdate\n",
    "df_cleaned['month']=df_cleaned['order_date'].dt.month_name()"
   ]
  },
  {
   "cell_type": "code",
   "execution_count": 30,
   "id": "b63f6e13",
   "metadata": {},
   "outputs": [
    {
     "data": {
      "text/plain": [
       "array(['January', 'February', 'March', 'April', 'May', 'June', 'July'],\n",
       "      dtype=object)"
      ]
     },
     "execution_count": 30,
     "metadata": {},
     "output_type": "execute_result"
    }
   ],
   "source": [
    "df_cleaned['month'].unique()"
   ]
  },
  {
   "cell_type": "code",
   "execution_count": 31,
   "id": "6b06f8a5",
   "metadata": {},
   "outputs": [
    {
     "name": "stderr",
     "output_type": "stream",
     "text": [
      "C:\\Users\\Admin\\AppData\\Local\\Temp\\ipykernel_8044\\3065051530.py:2: SettingWithCopyWarning: \n",
      "A value is trying to be set on a copy of a slice from a DataFrame\n",
      "\n",
      "See the caveats in the documentation: https://pandas.pydata.org/pandas-docs/stable/user_guide/indexing.html#returning-a-view-versus-a-copy\n",
      "  df_cleaned.drop('year',axis=1,inplace=True)\n"
     ]
    }
   ],
   "source": [
    "#it drop the unnecesseary column year, beacause it shows only one  year  2022 in dataset\n",
    "df_cleaned.drop('year',axis=1,inplace=True)"
   ]
  },
  {
   "cell_type": "code",
   "execution_count": 32,
   "id": "ce81823e",
   "metadata": {},
   "outputs": [
    {
     "data": {
      "text/html": [
       "<div>\n",
       "<style scoped>\n",
       "    .dataframe tbody tr th:only-of-type {\n",
       "        vertical-align: middle;\n",
       "    }\n",
       "\n",
       "    .dataframe tbody tr th {\n",
       "        vertical-align: top;\n",
       "    }\n",
       "\n",
       "    .dataframe thead th {\n",
       "        text-align: right;\n",
       "    }\n",
       "</style>\n",
       "<table border=\"1\" class=\"dataframe\">\n",
       "  <thead>\n",
       "    <tr style=\"text-align: right;\">\n",
       "      <th></th>\n",
       "      <th>order_id</th>\n",
       "      <th>product_id</th>\n",
       "      <th>product_category</th>\n",
       "      <th>quantity</th>\n",
       "      <th>price_dollars</th>\n",
       "      <th>customer_id</th>\n",
       "      <th>order_date</th>\n",
       "      <th>country</th>\n",
       "      <th>state</th>\n",
       "      <th>sales_hour</th>\n",
       "      <th>discount_percent</th>\n",
       "      <th>return_status</th>\n",
       "      <th>sales_value</th>\n",
       "      <th>website_traffic</th>\n",
       "      <th>order_number</th>\n",
       "      <th>lifetime_value</th>\n",
       "      <th>month</th>\n",
       "    </tr>\n",
       "  </thead>\n",
       "  <tbody>\n",
       "    <tr>\n",
       "      <th>0</th>\n",
       "      <td>1</td>\n",
       "      <td>1439</td>\n",
       "      <td>Books</td>\n",
       "      <td>1</td>\n",
       "      <td>160</td>\n",
       "      <td>10510</td>\n",
       "      <td>2022-01-01 00:00:00</td>\n",
       "      <td>USA</td>\n",
       "      <td>California</td>\n",
       "      <td>0</td>\n",
       "      <td>9</td>\n",
       "      <td>Not Returned</td>\n",
       "      <td>145.60</td>\n",
       "      <td>280</td>\n",
       "      <td>1</td>\n",
       "      <td>145.60</td>\n",
       "      <td>January</td>\n",
       "    </tr>\n",
       "    <tr>\n",
       "      <th>1</th>\n",
       "      <td>2</td>\n",
       "      <td>4268</td>\n",
       "      <td>Home &amp; Kitchen</td>\n",
       "      <td>5</td>\n",
       "      <td>198</td>\n",
       "      <td>25456</td>\n",
       "      <td>2022-01-01 01:00:00</td>\n",
       "      <td>India</td>\n",
       "      <td>Maharashtra</td>\n",
       "      <td>1</td>\n",
       "      <td>10</td>\n",
       "      <td>Returned</td>\n",
       "      <td>891.00</td>\n",
       "      <td>909</td>\n",
       "      <td>1</td>\n",
       "      <td>891.00</td>\n",
       "      <td>January</td>\n",
       "    </tr>\n",
       "    <tr>\n",
       "      <th>2</th>\n",
       "      <td>3</td>\n",
       "      <td>1627</td>\n",
       "      <td>Electronics</td>\n",
       "      <td>2</td>\n",
       "      <td>58</td>\n",
       "      <td>23047</td>\n",
       "      <td>2022-01-01 02:00:00</td>\n",
       "      <td>India</td>\n",
       "      <td>Maharashtra</td>\n",
       "      <td>2</td>\n",
       "      <td>3</td>\n",
       "      <td>Returned</td>\n",
       "      <td>112.52</td>\n",
       "      <td>626</td>\n",
       "      <td>1</td>\n",
       "      <td>112.52</td>\n",
       "      <td>January</td>\n",
       "    </tr>\n",
       "    <tr>\n",
       "      <th>4</th>\n",
       "      <td>5</td>\n",
       "      <td>4103</td>\n",
       "      <td>Books</td>\n",
       "      <td>5</td>\n",
       "      <td>30</td>\n",
       "      <td>16379</td>\n",
       "      <td>2022-01-01 04:00:00</td>\n",
       "      <td>Australia</td>\n",
       "      <td>New South Wales</td>\n",
       "      <td>4</td>\n",
       "      <td>4</td>\n",
       "      <td>Returned</td>\n",
       "      <td>144.00</td>\n",
       "      <td>606</td>\n",
       "      <td>1</td>\n",
       "      <td>144.00</td>\n",
       "      <td>January</td>\n",
       "    </tr>\n",
       "    <tr>\n",
       "      <th>5</th>\n",
       "      <td>6</td>\n",
       "      <td>3461</td>\n",
       "      <td>Books</td>\n",
       "      <td>2</td>\n",
       "      <td>106</td>\n",
       "      <td>13650</td>\n",
       "      <td>2022-01-01 05:00:00</td>\n",
       "      <td>Canada</td>\n",
       "      <td>Ontario</td>\n",
       "      <td>5</td>\n",
       "      <td>8</td>\n",
       "      <td>Returned</td>\n",
       "      <td>195.04</td>\n",
       "      <td>540</td>\n",
       "      <td>1</td>\n",
       "      <td>195.04</td>\n",
       "      <td>January</td>\n",
       "    </tr>\n",
       "    <tr>\n",
       "      <th>...</th>\n",
       "      <td>...</td>\n",
       "      <td>...</td>\n",
       "      <td>...</td>\n",
       "      <td>...</td>\n",
       "      <td>...</td>\n",
       "      <td>...</td>\n",
       "      <td>...</td>\n",
       "      <td>...</td>\n",
       "      <td>...</td>\n",
       "      <td>...</td>\n",
       "      <td>...</td>\n",
       "      <td>...</td>\n",
       "      <td>...</td>\n",
       "      <td>...</td>\n",
       "      <td>...</td>\n",
       "      <td>...</td>\n",
       "      <td>...</td>\n",
       "    </tr>\n",
       "    <tr>\n",
       "      <th>4995</th>\n",
       "      <td>4996</td>\n",
       "      <td>1032</td>\n",
       "      <td>Grocery</td>\n",
       "      <td>10</td>\n",
       "      <td>86</td>\n",
       "      <td>28755</td>\n",
       "      <td>2022-07-28 03:00:00</td>\n",
       "      <td>Australia</td>\n",
       "      <td>New South Wales</td>\n",
       "      <td>3</td>\n",
       "      <td>13</td>\n",
       "      <td>Returned</td>\n",
       "      <td>748.20</td>\n",
       "      <td>180</td>\n",
       "      <td>1</td>\n",
       "      <td>748.20</td>\n",
       "      <td>July</td>\n",
       "    </tr>\n",
       "    <tr>\n",
       "      <th>4996</th>\n",
       "      <td>4997</td>\n",
       "      <td>1205</td>\n",
       "      <td>Books</td>\n",
       "      <td>5</td>\n",
       "      <td>79</td>\n",
       "      <td>12949</td>\n",
       "      <td>2022-07-28 04:00:00</td>\n",
       "      <td>Canada</td>\n",
       "      <td>Ontario</td>\n",
       "      <td>4</td>\n",
       "      <td>11</td>\n",
       "      <td>Returned</td>\n",
       "      <td>351.55</td>\n",
       "      <td>971</td>\n",
       "      <td>1</td>\n",
       "      <td>351.55</td>\n",
       "      <td>July</td>\n",
       "    </tr>\n",
       "    <tr>\n",
       "      <th>4997</th>\n",
       "      <td>4998</td>\n",
       "      <td>3071</td>\n",
       "      <td>Grocery</td>\n",
       "      <td>7</td>\n",
       "      <td>169</td>\n",
       "      <td>25680</td>\n",
       "      <td>2022-07-28 05:00:00</td>\n",
       "      <td>Canada</td>\n",
       "      <td>Ontario</td>\n",
       "      <td>5</td>\n",
       "      <td>9</td>\n",
       "      <td>Returned</td>\n",
       "      <td>1076.53</td>\n",
       "      <td>458</td>\n",
       "      <td>1</td>\n",
       "      <td>1076.53</td>\n",
       "      <td>July</td>\n",
       "    </tr>\n",
       "    <tr>\n",
       "      <th>4998</th>\n",
       "      <td>4999</td>\n",
       "      <td>2360</td>\n",
       "      <td>Clothing</td>\n",
       "      <td>1</td>\n",
       "      <td>196</td>\n",
       "      <td>14721</td>\n",
       "      <td>2022-07-28 06:00:00</td>\n",
       "      <td>UK</td>\n",
       "      <td>England</td>\n",
       "      <td>6</td>\n",
       "      <td>9</td>\n",
       "      <td>Not Returned</td>\n",
       "      <td>178.36</td>\n",
       "      <td>884</td>\n",
       "      <td>1</td>\n",
       "      <td>178.36</td>\n",
       "      <td>July</td>\n",
       "    </tr>\n",
       "    <tr>\n",
       "      <th>4999</th>\n",
       "      <td>5000</td>\n",
       "      <td>3943</td>\n",
       "      <td>Home &amp; Kitchen</td>\n",
       "      <td>9</td>\n",
       "      <td>188</td>\n",
       "      <td>27521</td>\n",
       "      <td>2022-07-28 07:00:00</td>\n",
       "      <td>USA</td>\n",
       "      <td>Texas</td>\n",
       "      <td>7</td>\n",
       "      <td>20</td>\n",
       "      <td>Not Returned</td>\n",
       "      <td>1353.60</td>\n",
       "      <td>706</td>\n",
       "      <td>1</td>\n",
       "      <td>1353.60</td>\n",
       "      <td>July</td>\n",
       "    </tr>\n",
       "  </tbody>\n",
       "</table>\n",
       "<p>4747 rows × 17 columns</p>\n",
       "</div>"
      ],
      "text/plain": [
       "      order_id  product_id product_category  quantity  price_dollars  \\\n",
       "0            1        1439            Books         1            160   \n",
       "1            2        4268   Home & Kitchen         5            198   \n",
       "2            3        1627      Electronics         2             58   \n",
       "4            5        4103            Books         5             30   \n",
       "5            6        3461            Books         2            106   \n",
       "...        ...         ...              ...       ...            ...   \n",
       "4995      4996        1032          Grocery        10             86   \n",
       "4996      4997        1205            Books         5             79   \n",
       "4997      4998        3071          Grocery         7            169   \n",
       "4998      4999        2360         Clothing         1            196   \n",
       "4999      5000        3943   Home & Kitchen         9            188   \n",
       "\n",
       "      customer_id          order_date    country            state  sales_hour  \\\n",
       "0           10510 2022-01-01 00:00:00        USA       California           0   \n",
       "1           25456 2022-01-01 01:00:00      India      Maharashtra           1   \n",
       "2           23047 2022-01-01 02:00:00      India      Maharashtra           2   \n",
       "4           16379 2022-01-01 04:00:00  Australia  New South Wales           4   \n",
       "5           13650 2022-01-01 05:00:00     Canada          Ontario           5   \n",
       "...           ...                 ...        ...              ...         ...   \n",
       "4995        28755 2022-07-28 03:00:00  Australia  New South Wales           3   \n",
       "4996        12949 2022-07-28 04:00:00     Canada          Ontario           4   \n",
       "4997        25680 2022-07-28 05:00:00     Canada          Ontario           5   \n",
       "4998        14721 2022-07-28 06:00:00         UK          England           6   \n",
       "4999        27521 2022-07-28 07:00:00        USA            Texas           7   \n",
       "\n",
       "      discount_percent return_status  sales_value  website_traffic  \\\n",
       "0                    9  Not Returned       145.60              280   \n",
       "1                   10      Returned       891.00              909   \n",
       "2                    3      Returned       112.52              626   \n",
       "4                    4      Returned       144.00              606   \n",
       "5                    8      Returned       195.04              540   \n",
       "...                ...           ...          ...              ...   \n",
       "4995                13      Returned       748.20              180   \n",
       "4996                11      Returned       351.55              971   \n",
       "4997                 9      Returned      1076.53              458   \n",
       "4998                 9  Not Returned       178.36              884   \n",
       "4999                20  Not Returned      1353.60              706   \n",
       "\n",
       "      order_number  lifetime_value    month  \n",
       "0                1          145.60  January  \n",
       "1                1          891.00  January  \n",
       "2                1          112.52  January  \n",
       "4                1          144.00  January  \n",
       "5                1          195.04  January  \n",
       "...            ...             ...      ...  \n",
       "4995             1          748.20     July  \n",
       "4996             1          351.55     July  \n",
       "4997             1         1076.53     July  \n",
       "4998             1          178.36     July  \n",
       "4999             1         1353.60     July  \n",
       "\n",
       "[4747 rows x 17 columns]"
      ]
     },
     "execution_count": 32,
     "metadata": {},
     "output_type": "execute_result"
    }
   ],
   "source": [
    "df_cleaned"
   ]
  },
  {
   "cell_type": "code",
   "execution_count": 33,
   "id": "1157f619",
   "metadata": {},
   "outputs": [
    {
     "data": {
      "image/png": "[encoded data removed]",
      "text/plain": [
       "<Figure size 800x800 with 1 Axes>"
      ]
     },
     "metadata": {},
     "output_type": "display_data"
    }
   ],
   "source": [
    "# Group by 'Month' and calculate the total sales for each month\n",
    "monthly_sales = df_cleaned.groupby('month')['sales_value'].sum()\n",
    "\n",
    "\n",
    "plt.figure(figsize=(8, 8))\n",
    "plt.pie(monthly_sales, labels=monthly_sales.index, autopct='%1.1f%%', startangle=140)\n",
    "plt.title('Monthly Sales Distribution')\n",
    "\n",
    "plt.axis('equal')  \n",
    "plt.show()"
   ]
  },
  {
   "cell_type": "code",
   "execution_count": 34,
   "id": "8fc2be50",
   "metadata": {},
   "outputs": [
    {
     "name": "stderr",
     "output_type": "stream",
     "text": [
      "C:\\Users\\Admin\\AppData\\Local\\Temp\\ipykernel_8044\\1389338155.py:1: SettingWithCopyWarning: \n",
      "A value is trying to be set on a copy of a slice from a DataFrame.\n",
      "Try using .loc[row_indexer,col_indexer] = value instead\n",
      "\n",
      "See the caveats in the documentation: https://pandas.pydata.org/pandas-docs/stable/user_guide/indexing.html#returning-a-view-versus-a-copy\n",
      "  df_cleaned['Quarter'] = df_cleaned['order_date'].dt.to_period('Q')\n"
     ]
    }
   ],
   "source": [
    "df_cleaned['Quarter'] = df_cleaned['order_date'].dt.to_period('Q')"
   ]
  },
  {
   "cell_type": "code",
   "execution_count": 35,
   "id": "9ab0ce4b",
   "metadata": {},
   "outputs": [
    {
     "data": {
      "text/html": [
       "<div>\n",
       "<style scoped>\n",
       "    .dataframe tbody tr th:only-of-type {\n",
       "        vertical-align: middle;\n",
       "    }\n",
       "\n",
       "    .dataframe tbody tr th {\n",
       "        vertical-align: top;\n",
       "    }\n",
       "\n",
       "    .dataframe thead th {\n",
       "        text-align: right;\n",
       "    }\n",
       "</style>\n",
       "<table border=\"1\" class=\"dataframe\">\n",
       "  <thead>\n",
       "    <tr style=\"text-align: right;\">\n",
       "      <th></th>\n",
       "      <th>order_id</th>\n",
       "      <th>product_id</th>\n",
       "      <th>product_category</th>\n",
       "      <th>quantity</th>\n",
       "      <th>price_dollars</th>\n",
       "      <th>customer_id</th>\n",
       "      <th>order_date</th>\n",
       "      <th>country</th>\n",
       "      <th>state</th>\n",
       "      <th>sales_hour</th>\n",
       "      <th>discount_percent</th>\n",
       "      <th>return_status</th>\n",
       "      <th>sales_value</th>\n",
       "      <th>website_traffic</th>\n",
       "      <th>order_number</th>\n",
       "      <th>lifetime_value</th>\n",
       "      <th>month</th>\n",
       "      <th>Quarter</th>\n",
       "    </tr>\n",
       "  </thead>\n",
       "  <tbody>\n",
       "    <tr>\n",
       "      <th>0</th>\n",
       "      <td>1</td>\n",
       "      <td>1439</td>\n",
       "      <td>Books</td>\n",
       "      <td>1</td>\n",
       "      <td>160</td>\n",
       "      <td>10510</td>\n",
       "      <td>2022-01-01 00:00:00</td>\n",
       "      <td>USA</td>\n",
       "      <td>California</td>\n",
       "      <td>0</td>\n",
       "      <td>9</td>\n",
       "      <td>Not Returned</td>\n",
       "      <td>145.60</td>\n",
       "      <td>280</td>\n",
       "      <td>1</td>\n",
       "      <td>145.60</td>\n",
       "      <td>January</td>\n",
       "      <td>2022Q1</td>\n",
       "    </tr>\n",
       "    <tr>\n",
       "      <th>1</th>\n",
       "      <td>2</td>\n",
       "      <td>4268</td>\n",
       "      <td>Home &amp; Kitchen</td>\n",
       "      <td>5</td>\n",
       "      <td>198</td>\n",
       "      <td>25456</td>\n",
       "      <td>2022-01-01 01:00:00</td>\n",
       "      <td>India</td>\n",
       "      <td>Maharashtra</td>\n",
       "      <td>1</td>\n",
       "      <td>10</td>\n",
       "      <td>Returned</td>\n",
       "      <td>891.00</td>\n",
       "      <td>909</td>\n",
       "      <td>1</td>\n",
       "      <td>891.00</td>\n",
       "      <td>January</td>\n",
       "      <td>2022Q1</td>\n",
       "    </tr>\n",
       "    <tr>\n",
       "      <th>2</th>\n",
       "      <td>3</td>\n",
       "      <td>1627</td>\n",
       "      <td>Electronics</td>\n",
       "      <td>2</td>\n",
       "      <td>58</td>\n",
       "      <td>23047</td>\n",
       "      <td>2022-01-01 02:00:00</td>\n",
       "      <td>India</td>\n",
       "      <td>Maharashtra</td>\n",
       "      <td>2</td>\n",
       "      <td>3</td>\n",
       "      <td>Returned</td>\n",
       "      <td>112.52</td>\n",
       "      <td>626</td>\n",
       "      <td>1</td>\n",
       "      <td>112.52</td>\n",
       "      <td>January</td>\n",
       "      <td>2022Q1</td>\n",
       "    </tr>\n",
       "    <tr>\n",
       "      <th>4</th>\n",
       "      <td>5</td>\n",
       "      <td>4103</td>\n",
       "      <td>Books</td>\n",
       "      <td>5</td>\n",
       "      <td>30</td>\n",
       "      <td>16379</td>\n",
       "      <td>2022-01-01 04:00:00</td>\n",
       "      <td>Australia</td>\n",
       "      <td>New South Wales</td>\n",
       "      <td>4</td>\n",
       "      <td>4</td>\n",
       "      <td>Returned</td>\n",
       "      <td>144.00</td>\n",
       "      <td>606</td>\n",
       "      <td>1</td>\n",
       "      <td>144.00</td>\n",
       "      <td>January</td>\n",
       "      <td>2022Q1</td>\n",
       "    </tr>\n",
       "    <tr>\n",
       "      <th>5</th>\n",
       "      <td>6</td>\n",
       "      <td>3461</td>\n",
       "      <td>Books</td>\n",
       "      <td>2</td>\n",
       "      <td>106</td>\n",
       "      <td>13650</td>\n",
       "      <td>2022-01-01 05:00:00</td>\n",
       "      <td>Canada</td>\n",
       "      <td>Ontario</td>\n",
       "      <td>5</td>\n",
       "      <td>8</td>\n",
       "      <td>Returned</td>\n",
       "      <td>195.04</td>\n",
       "      <td>540</td>\n",
       "      <td>1</td>\n",
       "      <td>195.04</td>\n",
       "      <td>January</td>\n",
       "      <td>2022Q1</td>\n",
       "    </tr>\n",
       "    <tr>\n",
       "      <th>...</th>\n",
       "      <td>...</td>\n",
       "      <td>...</td>\n",
       "      <td>...</td>\n",
       "      <td>...</td>\n",
       "      <td>...</td>\n",
       "      <td>...</td>\n",
       "      <td>...</td>\n",
       "      <td>...</td>\n",
       "      <td>...</td>\n",
       "      <td>...</td>\n",
       "      <td>...</td>\n",
       "      <td>...</td>\n",
       "      <td>...</td>\n",
       "      <td>...</td>\n",
       "      <td>...</td>\n",
       "      <td>...</td>\n",
       "      <td>...</td>\n",
       "      <td>...</td>\n",
       "    </tr>\n",
       "    <tr>\n",
       "      <th>4995</th>\n",
       "      <td>4996</td>\n",
       "      <td>1032</td>\n",
       "      <td>Grocery</td>\n",
       "      <td>10</td>\n",
       "      <td>86</td>\n",
       "      <td>28755</td>\n",
       "      <td>2022-07-28 03:00:00</td>\n",
       "      <td>Australia</td>\n",
       "      <td>New South Wales</td>\n",
       "      <td>3</td>\n",
       "      <td>13</td>\n",
       "      <td>Returned</td>\n",
       "      <td>748.20</td>\n",
       "      <td>180</td>\n",
       "      <td>1</td>\n",
       "      <td>748.20</td>\n",
       "      <td>July</td>\n",
       "      <td>2022Q3</td>\n",
       "    </tr>\n",
       "    <tr>\n",
       "      <th>4996</th>\n",
       "      <td>4997</td>\n",
       "      <td>1205</td>\n",
       "      <td>Books</td>\n",
       "      <td>5</td>\n",
       "      <td>79</td>\n",
       "      <td>12949</td>\n",
       "      <td>2022-07-28 04:00:00</td>\n",
       "      <td>Canada</td>\n",
       "      <td>Ontario</td>\n",
       "      <td>4</td>\n",
       "      <td>11</td>\n",
       "      <td>Returned</td>\n",
       "      <td>351.55</td>\n",
       "      <td>971</td>\n",
       "      <td>1</td>\n",
       "      <td>351.55</td>\n",
       "      <td>July</td>\n",
       "      <td>2022Q3</td>\n",
       "    </tr>\n",
       "    <tr>\n",
       "      <th>4997</th>\n",
       "      <td>4998</td>\n",
       "      <td>3071</td>\n",
       "      <td>Grocery</td>\n",
       "      <td>7</td>\n",
       "      <td>169</td>\n",
       "      <td>25680</td>\n",
       "      <td>2022-07-28 05:00:00</td>\n",
       "      <td>Canada</td>\n",
       "      <td>Ontario</td>\n",
       "      <td>5</td>\n",
       "      <td>9</td>\n",
       "      <td>Returned</td>\n",
       "      <td>1076.53</td>\n",
       "      <td>458</td>\n",
       "      <td>1</td>\n",
       "      <td>1076.53</td>\n",
       "      <td>July</td>\n",
       "      <td>2022Q3</td>\n",
       "    </tr>\n",
       "    <tr>\n",
       "      <th>4998</th>\n",
       "      <td>4999</td>\n",
       "      <td>2360</td>\n",
       "      <td>Clothing</td>\n",
       "      <td>1</td>\n",
       "      <td>196</td>\n",
       "      <td>14721</td>\n",
       "      <td>2022-07-28 06:00:00</td>\n",
       "      <td>UK</td>\n",
       "      <td>England</td>\n",
       "      <td>6</td>\n",
       "      <td>9</td>\n",
       "      <td>Not Returned</td>\n",
       "      <td>178.36</td>\n",
       "      <td>884</td>\n",
       "      <td>1</td>\n",
       "      <td>178.36</td>\n",
       "      <td>July</td>\n",
       "      <td>2022Q3</td>\n",
       "    </tr>\n",
       "    <tr>\n",
       "      <th>4999</th>\n",
       "      <td>5000</td>\n",
       "      <td>3943</td>\n",
       "      <td>Home &amp; Kitchen</td>\n",
       "      <td>9</td>\n",
       "      <td>188</td>\n",
       "      <td>27521</td>\n",
       "      <td>2022-07-28 07:00:00</td>\n",
       "      <td>USA</td>\n",
       "      <td>Texas</td>\n",
       "      <td>7</td>\n",
       "      <td>20</td>\n",
       "      <td>Not Returned</td>\n",
       "      <td>1353.60</td>\n",
       "      <td>706</td>\n",
       "      <td>1</td>\n",
       "      <td>1353.60</td>\n",
       "      <td>July</td>\n",
       "      <td>2022Q3</td>\n",
       "    </tr>\n",
       "  </tbody>\n",
       "</table>\n",
       "<p>4747 rows × 18 columns</p>\n",
       "</div>"
      ],
      "text/plain": [
       "      order_id  product_id product_category  quantity  price_dollars  \\\n",
       "0            1        1439            Books         1            160   \n",
       "1            2        4268   Home & Kitchen         5            198   \n",
       "2            3        1627      Electronics         2             58   \n",
       "4            5        4103            Books         5             30   \n",
       "5            6        3461            Books         2            106   \n",
       "...        ...         ...              ...       ...            ...   \n",
       "4995      4996        1032          Grocery        10             86   \n",
       "4996      4997        1205            Books         5             79   \n",
       "4997      4998        3071          Grocery         7            169   \n",
       "4998      4999        2360         Clothing         1            196   \n",
       "4999      5000        3943   Home & Kitchen         9            188   \n",
       "\n",
       "      customer_id          order_date    country            state  sales_hour  \\\n",
       "0           10510 2022-01-01 00:00:00        USA       California           0   \n",
       "1           25456 2022-01-01 01:00:00      India      Maharashtra           1   \n",
       "2           23047 2022-01-01 02:00:00      India      Maharashtra           2   \n",
       "4           16379 2022-01-01 04:00:00  Australia  New South Wales           4   \n",
       "5           13650 2022-01-01 05:00:00     Canada          Ontario           5   \n",
       "...           ...                 ...        ...              ...         ...   \n",
       "4995        28755 2022-07-28 03:00:00  Australia  New South Wales           3   \n",
       "4996        12949 2022-07-28 04:00:00     Canada          Ontario           4   \n",
       "4997        25680 2022-07-28 05:00:00     Canada          Ontario           5   \n",
       "4998        14721 2022-07-28 06:00:00         UK          England           6   \n",
       "4999        27521 2022-07-28 07:00:00        USA            Texas           7   \n",
       "\n",
       "      discount_percent return_status  sales_value  website_traffic  \\\n",
       "0                    9  Not Returned       145.60              280   \n",
       "1                   10      Returned       891.00              909   \n",
       "2                    3      Returned       112.52              626   \n",
       "4                    4      Returned       144.00              606   \n",
       "5                    8      Returned       195.04              540   \n",
       "...                ...           ...          ...              ...   \n",
       "4995                13      Returned       748.20              180   \n",
       "4996                11      Returned       351.55              971   \n",
       "4997                 9      Returned      1076.53              458   \n",
       "4998                 9  Not Returned       178.36              884   \n",
       "4999                20  Not Returned      1353.60              706   \n",
       "\n",
       "      order_number  lifetime_value    month Quarter  \n",
       "0                1          145.60  January  2022Q1  \n",
       "1                1          891.00  January  2022Q1  \n",
       "2                1          112.52  January  2022Q1  \n",
       "4                1          144.00  January  2022Q1  \n",
       "5                1          195.04  January  2022Q1  \n",
       "...            ...             ...      ...     ...  \n",
       "4995             1          748.20     July  2022Q3  \n",
       "4996             1          351.55     July  2022Q3  \n",
       "4997             1         1076.53     July  2022Q3  \n",
       "4998             1          178.36     July  2022Q3  \n",
       "4999             1         1353.60     July  2022Q3  \n",
       "\n",
       "[4747 rows x 18 columns]"
      ]
     },
     "execution_count": 35,
     "metadata": {},
     "output_type": "execute_result"
    }
   ],
   "source": [
    "df_cleaned"
   ]
  },
  {
   "cell_type": "code",
   "execution_count": 36,
   "id": "2b9a763e",
   "metadata": {},
   "outputs": [
    {
     "data": {
      "image/png": "[encoded data removed]",
      "text/plain": [
       "<Figure size 800x800 with 1 Axes>"
      ]
     },
     "metadata": {},
     "output_type": "display_data"
    }
   ],
   "source": [
    "# Group by 'Month' and calculate the total sales for each month\n",
    "quaterly_sales = df_cleaned.groupby('Quarter')['sales_value'].sum()\n",
    "\n",
    "\n",
    "plt.figure(figsize=(8, 8))\n",
    "plt.pie(quaterly_sales, labels=quaterly_sales.index, autopct='%1.1f%%', startangle=140)\n",
    "plt.title('Monthly Sales Distribution')\n",
    "\n",
    "plt.axis('equal')  \n",
    "plt.show()"
   ]
  },
  {
   "cell_type": "code",
   "execution_count": null,
   "id": "acdd5b4f",
   "metadata": {},
   "outputs": [],
   "source": []
  },
  {
   "cell_type": "code",
   "execution_count": null,
   "id": "28644f00",
   "metadata": {},
   "outputs": [],
   "source": []
  }
 ],
 "metadata": {
  "kernelspec": {
   "display_name": "Python 3 (ipykernel)",
   "language": "python",
   "name": "python3"
  },
  "language_info": {
   "codemirror_mode": {
    "name": "ipython",
    "version": 3
   },
   "file_extension": ".py",
   "mimetype": "text/x-python",
   "name": "python",
   "nbconvert_exporter": "python",
   "pygments_lexer": "ipython3",
   "version": "3.11.1"
  }
 },
 "nbformat": 4,
 "nbformat_minor": 5
}
